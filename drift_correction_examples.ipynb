{
 "cells": [
  {
   "cell_type": "markdown",
   "metadata": {},
   "source": [
    "This notebook shows optode drift processing examples"
   ]
  },
  {
   "cell_type": "code",
   "execution_count": 3,
   "metadata": {},
   "outputs": [],
   "source": [
    "\n",
    "import matplotlib.pyplot as plt\n",
    "import pandas as pd\n",
    "from scipy.optimize import curve_fit\n",
    "import os\n",
    "\n",
    "from matplotlib.dates import DateFormatter, MonthLocator\n",
    "import matplotlib.dates as mdates\n",
    "import matplotlib.colors as colors\n"
   ]
  },
  {
   "cell_type": "markdown",
   "metadata": {},
   "source": [
    "# Optode with irreversible drift "
   ]
  },
  {
   "cell_type": "code",
   "execution_count": null,
   "metadata": {},
   "outputs": [],
   "source": []
  },
  {
   "cell_type": "markdown",
   "metadata": {},
   "source": [
    "### First import the optode and CTD data"
   ]
  },
  {
   "cell_type": "code",
   "execution_count": 9,
   "metadata": {},
   "outputs": [],
   "source": [
    "serial_num = '204381' # 1000m\n",
    "\n",
    "# import optode-DO\n",
    "optode_oxy_corr = pd.read_csv(r'Files\\204381\\204381_data.csv')\n",
    "optode_oxy_corr.index = pd.to_datetime(optode_oxy_corr.index)\n",
    "\n",
    "# Import cal-dip optode\n",
    "station = 4\n",
    "df = pd.read_csv(r'Files\\204381\\downcasts_AR46.csv')\n",
    "df.CastTimeUTC = pd.to_datetime(df.CastTimeUTC)\n",
    "df = df.set_index(pd.to_datetime(df.CastTimeUTC))\n",
    "df = df.drop_duplicates(subset=['CastTimeUTC'])\n",
    "caldip_deploy_date = df.pt.where(df.Station == station).dropna().index[0]\n",
    "\n",
    "T_caldip_deploy = df.pt.where(df.Station == station).dropna().resample('10s').nearest()\n",
    "sigma0_caldip_deploy = df.sigma0.where(df.Station == station).dropna().resample('10s').nearest()\n",
    "S_caldip_deploy = df.sal1.where(df.Station == station).dropna().resample('10s').nearest()\n",
    "p_caldip_ctd_deploy = df.prs.where(df.Station == station).dropna().resample('10s').nearest()\n",
    "ctd_caldip_oxy_deploy = df.AA_DOcorr_umolkg.where(df.Station == station).dropna().resample('10s').nearest()\n",
    "lat_caldip_deploy = df.lat.iloc[0]\n",
    "\n",
    "# Import deployment cal-cast\n",
    "station = 10\n",
    "T_calib_deploy = df.pt.where(df.Station == station).dropna().resample('10s').nearest()\n",
    "sigma0_calib_deploy = df.sigma0.where(df.Station == station).dropna().resample('10s').nearest()\n",
    "S_calib_deploy = df.sal1.where(df.Station == station).dropna().resample('10s').nearest()\n",
    "p_calib_ctd_deploy = df.prs.where(df.Station == station).dropna().resample('10s').nearest()\n",
    "ctd_calib_oxy_deploy = df.AA_DOcorr_umolkg.where(df.Station == station).dropna().resample('10s').nearest()\n",
    "lat_calib_deploy = df.lat.iloc[0]\n",
    "calcast_deploy_date = df.pt.where(df.Station == station).dropna().index[0]\n",
    "\n",
    "#Import recovery cal-cast\n",
    "\n",
    "df = pd.read_csv(r'Files\\204381\\downcasts_AR69_01.csv')\n",
    "df.CastTimeUTC = pd.to_datetime(df.CastTimeUTC)\n",
    "df = df.set_index(pd.to_datetime(df.CastTimeUTC))\n",
    "df = df.drop_duplicates(subset=['CastTimeUTC'])\n",
    "    \n",
    "calcast_recov_date = df.index[0]\n",
    "T_calib_recov = df.pt.where(df.Station == recov_station_calib).dropna().resample('10s').nearest()\n",
    "S_calib_recov = df.sal1.where(df.Station == recov_station_calib).dropna().resample('10s').nearest()\n",
    "sigma0_calib_recov = df.sigma0.where(df.Station == recov_station_calib).dropna().resample('10s').nearest()\n",
    "p_calib_ctd_recov = df.prs.where(df.Station == recov_station_calib).dropna().resample('10s').nearest()\n",
    "ctd_calib_oxy_recov = df.DOcorr_umolkg.where(df.Station == recov_station_calib).dropna().resample('10s').nearest()\n",
    "lat_calib_recov = df.lat.iloc[0]\n",
    "\n",
    "\n"
   ]
  },
  {
   "cell_type": "code",
   "execution_count": 16,
   "metadata": {},
   "outputs": [
    {
     "ename": "NameError",
     "evalue": "name 'aa_cal' is not defined",
     "output_type": "error",
     "traceback": [
      "\u001b[1;31m---------------------------------------------------------------------------\u001b[0m",
      "\u001b[1;31mNameError\u001b[0m                                 Traceback (most recent call last)",
      "Cell \u001b[1;32mIn[16], line 24\u001b[0m\n\u001b[0;32m     22\u001b[0m df[\u001b[38;5;124m\"\u001b[39m\u001b[38;5;124mCT\u001b[39m\u001b[38;5;124m\"\u001b[39m] \u001b[38;5;241m=\u001b[39m gsw\u001b[38;5;241m.\u001b[39mCT_from_t(df\u001b[38;5;241m.\u001b[39mSA,df\u001b[38;5;241m.\u001b[39mTEMP,df\u001b[38;5;241m.\u001b[39mPRES)\n\u001b[0;32m     23\u001b[0m df[\u001b[38;5;124m\"\u001b[39m\u001b[38;5;124msigma0\u001b[39m\u001b[38;5;124m\"\u001b[39m] \u001b[38;5;241m=\u001b[39m gsw\u001b[38;5;241m.\u001b[39msigma0(df\u001b[38;5;241m.\u001b[39mSA,df\u001b[38;5;241m.\u001b[39mCT)\n\u001b[1;32m---> 24\u001b[0m cal \u001b[38;5;241m=\u001b[39m aa_cal(\u001b[38;5;28mstr\u001b[39m(serial_num),deploy\u001b[38;5;241m=\u001b[39mdeploy)\n\u001b[0;32m     25\u001b[0m \u001b[38;5;28;01mif\u001b[39;00m cal \u001b[38;5;129;01mis\u001b[39;00m \u001b[38;5;28;01mNone\u001b[39;00m:\n\u001b[0;32m     26\u001b[0m     df[\u001b[38;5;124m\"\u001b[39m\u001b[38;5;124mDOXY\u001b[39m\u001b[38;5;124m\"\u001b[39m] \u001b[38;5;241m=\u001b[39m np\u001b[38;5;241m.\u001b[39mnan\n",
      "\u001b[1;31mNameError\u001b[0m: name 'aa_cal' is not defined"
     ]
    }
   ],
   "source": [
    "import gsw \n",
    "df_all = pd.read_csv(r'C:\\Users\\bikbe\\Documents\\Projects\\GOHSNAP\\Data\\GOHSNAP_DATA\\summary_table.csv',encoding='latin1')\n",
    "\n",
    "df_sn = df_all[df_all.serial_number == int(serial_num)]\n",
    "\n",
    "filename = r'C:\\Users\\bikbe\\Documents\\GitHub\\optode_processing_examples\\Files\\204381\\RBRCONCERTO_204381_20200815_2354.txt'\n",
    "df = pd.read_csv(filename).set_index('Time')\n",
    "df.index = pd.to_datetime(df.index) \n",
    "\n",
    "df[\"serial_number\"] = serial_num\n",
    "df = df.rename(columns={\"Var1_1\": \"TEMP\"})\n",
    "df = df.rename(columns={\"Var1_2\": \"dissolved_o2_concentration\"})\n",
    "df = df.rename(columns={\"Var1_3\": \"calibrated_phase\"})\n",
    "df[\"LONGITUDE\"] = df_sn.LATITUDE.values[0]\n",
    "df[\"LATITUDE\"] = df_sn.LONGITUDE.values[0]\n",
    "df[\"PSAL\"] = df.align(S_caldip_deploy, axis = 0)[1].dropna()\n",
    "\n",
    "df[\"DEPTH\"] = 0\n",
    "\n",
    "df[\"PRES\"] = gsw.p_from_z(-df.DEPTH.values,df.LATITUDE.values)\n",
    "df[\"SA\"] = gsw.SA_from_SP(df.PSAL,df.PRES,df.LONGITUDE,df.LATITUDE)\n",
    "df[\"CT\"] = gsw.CT_from_t(df.SA,df.TEMP,df.PRES)\n",
    "df[\"sigma0\"] = gsw.sigma0(df.SA,df.CT)\n",
    "cal = aa_cal(str(serial_num),deploy=deploy)\n",
    "if cal is None:\n",
    "    df[\"DOXY\"] = np.nan\n",
    "    df[\"O2eq\"] = np.nan\n",
    "else:\n",
    "    df[\"DOXY\"],df[\"O2eq\"] = O2_SVU(df[\"calibrated_phase\"], df[\"TEMP\"], df[\"PSAL\"], df[\"PRES\"], df[\"LONGITUDE\"], df[\"LATITUDE\"], cal['SVUFoilCoef'], S0=cal[\"Salinity\"])\n",
    "# return df\n",
    "\n",
    "deployment_caldip_optode_oxy = df.DOXY #umol/kg\n",
    "deployment_caldip_optode_oxy = deployment_caldip_optode_oxy[p_caldip_ctd_deploy.index]#*((1000+sigma0_caldip_deploy)/1000) #convert umol/kg to umol/l"
   ]
  },
  {
   "cell_type": "code",
   "execution_count": null,
   "metadata": {},
   "outputs": [],
   "source": [
    "\n",
    "overlap = np.in1d(np.round(optode_oxy_corr.PTEMP.values.flatten(),2),np.round(T_calib_recov,2)) #where microcat temp is also in ctd temp\n",
    "overlap2 = np.in1d(np.round(T_calib_recov,2),np.round(mc_last_10days.PTEMP.values.flatten(),2)) #where ctd temp is also in microcat temp"
   ]
  }
 ],
 "metadata": {
  "kernelspec": {
   "display_name": "bgc_matchups",
   "language": "python",
   "name": "python3"
  },
  "language_info": {
   "codemirror_mode": {
    "name": "ipython",
    "version": 3
   },
   "file_extension": ".py",
   "mimetype": "text/x-python",
   "name": "python",
   "nbconvert_exporter": "python",
   "pygments_lexer": "ipython3",
   "version": "3.11.5"
  }
 },
 "nbformat": 4,
 "nbformat_minor": 2
}
